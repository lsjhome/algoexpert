{
 "cells": [
  {
   "cell_type": "code",
   "execution_count": 16,
   "metadata": {},
   "outputs": [],
   "source": [
    "class Node:\n",
    "\n",
    "    def __init__(self, name):\n",
    "        self.children = []\n",
    "        self.name = name\n",
    "    \n",
    "    def addChild(self, name):\n",
    "        self.children.append(Node(name))\n",
    "        \n",
    "    def depthFirstSearch(self, array):\n",
    "        array.append(self.name)\n",
    "        for child in self.children:\n",
    "            child.depthFirstSearch(array)\n",
    "        return array"
   ]
  },
  {
   "cell_type": "code",
   "execution_count": 29,
   "metadata": {},
   "outputs": [],
   "source": [
    "A = Node('A')\n",
    "A.addChild('B')\n",
    "A.children[0].addChild('E')\n",
    "A.children[0].addChild('F')\n",
    "A.children[0].children[1].addChild('I')\n",
    "A.children[0].children[1].addChild('J')\n",
    "A.addChild('C')\n",
    "A.addChild('D')\n",
    "A.children[2].addChild('G')\n",
    "A.children[2].addChild('H')\n",
    "A.children[2].children[0].addChild('K')"
   ]
  },
  {
   "cell_type": "code",
   "execution_count": null,
   "metadata": {},
   "outputs": [],
   "source": [
    "class Node:\n",
    "    \n",
    "    def __init__(self, name):\n",
    "        self.name = name\n",
    "        self.children = []\n",
    "        \n",
    "    def addChild(self, name):\n",
    "        self.children.append(Node(name))\n",
    "        \n",
    "    def depthFirstSearch(self, array):\n",
    "        array.append(self.name)\n",
    "        for child in children:\n",
    "            child.depthFirstSearch(array)\n",
    "        return array\n",
    "        "
   ]
  },
  {
   "cell_type": "code",
   "execution_count": 75,
   "metadata": {},
   "outputs": [],
   "source": [
    "class Node:\n",
    "    \n",
    "    def __init__(self, name):\n",
    "        self.name = name\n",
    "        self.children = []\n",
    "        \n",
    "    def addChild(self, name):\n",
    "        self.children.append(Node(name))\n",
    "        \n",
    "    def depthFirstSearch(self, array):\n",
    "        array.append(self.name)\n",
    "        for child in self.children:\n",
    "            child.depthFirstSearch(array)\n",
    "        return array"
   ]
  },
  {
   "cell_type": "code",
   "execution_count": 76,
   "metadata": {},
   "outputs": [],
   "source": [
    "A = Node('A')\n",
    "A.addChild('B')\n",
    "A.children[0].addChild('E')\n",
    "A.children[0].addChild('F')\n",
    "A.children[0].children[1].addChild('I')\n",
    "A.children[0].children[1].addChild('J')\n",
    "A.addChild('C')\n",
    "A.addChild('D')\n",
    "A.children[2].addChild('G')\n",
    "A.children[2].addChild('H')\n",
    "A.children[2].children[0].addChild('K')"
   ]
  },
  {
   "cell_type": "code",
   "execution_count": 77,
   "metadata": {},
   "outputs": [
    {
     "data": {
      "text/plain": [
       "['A', 'B', 'E', 'F', 'I', 'J', 'C', 'D', 'G', 'K', 'H']"
      ]
     },
     "execution_count": 77,
     "metadata": {},
     "output_type": "execute_result"
    }
   ],
   "source": [
    "A.depthFirstSearch([])"
   ]
  },
  {
   "cell_type": "code",
   "execution_count": null,
   "metadata": {},
   "outputs": [],
   "source": []
  }
 ],
 "metadata": {
  "kernelspec": {
   "display_name": "Python 3",
   "language": "python",
   "name": "python3"
  },
  "language_info": {
   "codemirror_mode": {
    "name": "ipython",
    "version": 3
   },
   "file_extension": ".py",
   "mimetype": "text/x-python",
   "name": "python",
   "nbconvert_exporter": "python",
   "pygments_lexer": "ipython3",
   "version": "3.7.2"
  }
 },
 "nbformat": 4,
 "nbformat_minor": 2
}
