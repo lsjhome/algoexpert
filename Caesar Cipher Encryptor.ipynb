{
 "cells": [
  {
   "cell_type": "markdown",
   "metadata": {},
   "source": [
    "# Jin's Solution"
   ]
  },
  {
   "cell_type": "code",
   "execution_count": 47,
   "metadata": {},
   "outputs": [],
   "source": [
    "from string import ascii_lowercase\n",
    "\n",
    "num_dict = {i:v for (i,v) in enumerate(ascii_lowercase)}\n",
    "dict_num = {v:i for (i,v) in enumerate(ascii_lowercase)}\n",
    "\n",
    "def caesarCipherEncryptor(string, key):\n",
    "    # Write your code here.\n",
    "    answer = []\n",
    "    for i in string:\n",
    "        withKey = dict_num[i] + key % 26\n",
    "        if  withKey <= 25:\n",
    "            answer.append(num_dict[withKey])\n",
    "        else:\n",
    "            answer.append(num_dict[withKey-26])\n",
    "    return \"\".join(answer)"
   ]
  },
  {
   "cell_type": "markdown",
   "metadata": {},
   "source": [
    "# Expert's Solution"
   ]
  },
  {
   "cell_type": "code",
   "execution_count": 58,
   "metadata": {},
   "outputs": [],
   "source": [
    "# O(n) time | O(n) space\n",
    "def caesarCipherEncryptor(string, key):\n",
    "    newLetters = []\n",
    "    newKey = key % 26\n",
    "    for letter in string:\n",
    "        newLetters.append(getNewLetter(letter, newKey))\n",
    "    return \"\".join(newLetters)\n",
    "\n",
    "def getNewLetter(letter, key):\n",
    "    newletterCode = ord(letter) + key\n",
    "    return chr(newletterCode) if newletterCode <= 122 else chr(96+newletterCode % 122)"
   ]
  },
  {
   "cell_type": "code",
   "execution_count": 59,
   "metadata": {},
   "outputs": [
    {
     "data": {
      "text/plain": [
       "'zab'"
      ]
     },
     "execution_count": 59,
     "metadata": {},
     "output_type": "execute_result"
    }
   ],
   "source": [
    "caesarCipherEncryptor('xyz', 2)"
   ]
  },
  {
   "cell_type": "code",
   "execution_count": 65,
   "metadata": {},
   "outputs": [],
   "source": [
    "def caesarCipherEncryptor(string, key):\n",
    "    newLetters = []\n",
    "    newKey = key % 26\n",
    "    alphabet = list(\"abcdefghijklmnopqrstuvwxyz\")\n",
    "    for letter in string:\n",
    "        newLetters.append(getNewLetter(letter, newKey, alphabet))\n",
    "    return \"\".join(newLetters)\n",
    "\n",
    "def getNewLetter(letter, key, alphabet):\n",
    "    newLetterCode = alphabet.index(letter) + key\n",
    "    return alphabet[newLetterCode] if newLetterCode <= 25 \\\n",
    "            else alphabet[-1 + newLetterCode % 25]"
   ]
  },
  {
   "cell_type": "code",
   "execution_count": 66,
   "metadata": {},
   "outputs": [
    {
     "data": {
      "text/plain": [
       "'zab'"
      ]
     },
     "execution_count": 66,
     "metadata": {},
     "output_type": "execute_result"
    }
   ],
   "source": [
    "caesarCipherEncryptor('xyz', 2)"
   ]
  }
 ],
 "metadata": {
  "kernelspec": {
   "display_name": "Python 3",
   "language": "python",
   "name": "python3"
  },
  "language_info": {
   "codemirror_mode": {
    "name": "ipython",
    "version": 3
   },
   "file_extension": ".py",
   "mimetype": "text/x-python",
   "name": "python",
   "nbconvert_exporter": "python",
   "pygments_lexer": "ipython3",
   "version": "3.7.2"
  }
 },
 "nbformat": 4,
 "nbformat_minor": 2
}
