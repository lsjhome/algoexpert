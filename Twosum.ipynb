{
 "cells": [
  {
   "cell_type": "markdown",
   "metadata": {},
   "source": [
    "Jin's Answer"
   ]
  },
  {
   "cell_type": "code",
   "execution_count": 2,
   "metadata": {},
   "outputs": [],
   "source": [
    "# O(nCr) time\n",
    "from itertools import combinations\n",
    "\n",
    "def twoNumberSum(array, targetSum):\n",
    "    for (i, j) in combinations(array,2):\n",
    "        if (i+j) == targetSum:\n",
    "            return sorted([i,j])\n",
    "    return []\n",
    "\n",
    "    # Write your code here."
   ]
  },
  {
   "cell_type": "code",
   "execution_count": 15,
   "metadata": {},
   "outputs": [],
   "source": [
    "array, targetSum = [3, 5, -4, 8, 11, 1, -1, 6], 10"
   ]
  },
  {
   "cell_type": "code",
   "execution_count": 16,
   "metadata": {},
   "outputs": [
    {
     "data": {
      "text/plain": [
       "[-1, 11]"
      ]
     },
     "execution_count": 16,
     "metadata": {},
     "output_type": "execute_result"
    }
   ],
   "source": [
    "twoNumberSum(array, targetSum)"
   ]
  },
  {
   "cell_type": "markdown",
   "metadata": {},
   "source": [
    "Expert Answer"
   ]
  },
  {
   "cell_type": "code",
   "execution_count": 18,
   "metadata": {},
   "outputs": [],
   "source": [
    "# O(n^2) time | O(1) Space\n",
    "def twoNumberSum(array, targetSum):\n",
    "    \n",
    "    for i in range(len(array)-1):\n",
    "        firstNum = array[i]\n",
    "        for j in range(i + 1, len(array)):\n",
    "            secondNum = array[j]\n",
    "            if firstNum + secondNum == targetSum:\n",
    "                return [firstNum, secondNum]\n",
    "    return []"
   ]
  },
  {
   "cell_type": "code",
   "execution_count": 19,
   "metadata": {},
   "outputs": [
    {
     "data": {
      "text/plain": [
       "[-1, 11]"
      ]
     },
     "execution_count": 19,
     "metadata": {},
     "output_type": "execute_result"
    }
   ],
   "source": [
    "twoNumberSum(array, targetSum)"
   ]
  },
  {
   "cell_type": "code",
   "execution_count": 21,
   "metadata": {},
   "outputs": [],
   "source": [
    "# O(n) time | O(n) space\n",
    "def twoNumberSum(array, targetSum):\n",
    "    nums = {}\n",
    "    for num in array:\n",
    "        potentialMatch = targetSum - num\n",
    "        if potentialMatch in nums:\n",
    "            return [potentialMatch, num]\n",
    "        else:\n",
    "            nums[num] = True\n",
    "    return []"
   ]
  },
  {
   "cell_type": "code",
   "execution_count": 22,
   "metadata": {},
   "outputs": [
    {
     "data": {
      "text/plain": [
       "[-1, 11]"
      ]
     },
     "execution_count": 22,
     "metadata": {},
     "output_type": "execute_result"
    }
   ],
   "source": [
    "twoNumberSum(array, targetSum)"
   ]
  },
  {
   "cell_type": "code",
   "execution_count": 24,
   "metadata": {},
   "outputs": [],
   "source": [
    "# O(nlog(n) time | O(1) space\n",
    "def twoNumberSum(array, targetSum):\n",
    "    array.sort()\n",
    "    left = 0\n",
    "    right = len(array) - 1\n",
    "    \n",
    "    while left < right:\n",
    "        currentSum = array[left] + array[right]\n",
    "        if currentSum == targetSum:\n",
    "            return [array[left], array[right]]\n",
    "        \n",
    "        elif currentSum < targetSum:\n",
    "            left += 1\n",
    "            \n",
    "        elif currentSum > targetSum:\n",
    "            right += 1\n",
    "    return []"
   ]
  }
 ],
 "metadata": {
  "kernelspec": {
   "display_name": "Python 3",
   "language": "python",
   "name": "python3"
  },
  "language_info": {
   "codemirror_mode": {
    "name": "ipython",
    "version": 3
   },
   "file_extension": ".py",
   "mimetype": "text/x-python",
   "name": "python",
   "nbconvert_exporter": "python",
   "pygments_lexer": "ipython3",
   "version": "3.7.2"
  }
 },
 "nbformat": 4,
 "nbformat_minor": 2
}
