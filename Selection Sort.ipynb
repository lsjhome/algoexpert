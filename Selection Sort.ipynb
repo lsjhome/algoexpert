{
 "cells": [
  {
   "cell_type": "code",
   "execution_count": 30,
   "metadata": {},
   "outputs": [],
   "source": [
    "def selectionSort(array):\n",
    "    \n",
    "    currentIdx = 0\n",
    "    \n",
    "    while currentIdx < len(array) - 1:\n",
    "        \n",
    "        smallestIdx = currentIdx\n",
    "        \n",
    "        for i in range(currentIdx+1, len(array)):\n",
    "            if array[smallestIdx] > array[i]:\n",
    "                smallestIdx = i\n",
    "            \n",
    "        array[currentIdx], array[smallestIdx] = array[smallestIdx], array[currentIdx]        \n",
    "        currentIdx +=1\n",
    "\n",
    "    return array"
   ]
  },
  {
   "cell_type": "code",
   "execution_count": 31,
   "metadata": {},
   "outputs": [
    {
     "data": {
      "text/plain": [
       "[2, 3, 5, 5, 6, 8, 9]"
      ]
     },
     "execution_count": 31,
     "metadata": {},
     "output_type": "execute_result"
    }
   ],
   "source": [
    "array = [8, 5, 2, 9, 5, 6, 3]\n",
    "selectionSort(array)"
   ]
  },
  {
   "cell_type": "markdown",
   "metadata": {},
   "source": [
    "# Expert's Solution"
   ]
  },
  {
   "cell_type": "code",
   "execution_count": 39,
   "metadata": {},
   "outputs": [],
   "source": [
    "def selectionSort(array):\n",
    "    currentIdx = 0\n",
    "    while currentIdx < len(array) -1:\n",
    "        smallestIdx = currentIdx\n",
    "        for i in range(currentIdx + 1, len(array)):\n",
    "            if array[i] < array[smallestIdx]:\n",
    "                smallestIdx = i\n",
    "        swap(currentIdx, smallestIdx, array)\n",
    "        currentIdx +=1\n",
    "    return array"
   ]
  },
  {
   "cell_type": "code",
   "execution_count": 40,
   "metadata": {},
   "outputs": [],
   "source": [
    "def swap(i, j, array):\n",
    "    array[i], array[j] = array[j], array[i]"
   ]
  },
  {
   "cell_type": "code",
   "execution_count": 41,
   "metadata": {},
   "outputs": [
    {
     "data": {
      "text/plain": [
       "[2, 3, 5, 5, 6, 8, 9]"
      ]
     },
     "execution_count": 41,
     "metadata": {},
     "output_type": "execute_result"
    }
   ],
   "source": [
    "array = [8, 5, 2, 9, 5, 6, 3]\n",
    "selectionSort(array)"
   ]
  },
  {
   "cell_type": "code",
   "execution_count": null,
   "metadata": {},
   "outputs": [],
   "source": []
  }
 ],
 "metadata": {
  "kernelspec": {
   "display_name": "Python 3",
   "language": "python",
   "name": "python3"
  },
  "language_info": {
   "codemirror_mode": {
    "name": "ipython",
    "version": 3
   },
   "file_extension": ".py",
   "mimetype": "text/x-python",
   "name": "python",
   "nbconvert_exporter": "python",
   "pygments_lexer": "ipython3",
   "version": "3.7.6"
  }
 },
 "nbformat": 4,
 "nbformat_minor": 4
}
