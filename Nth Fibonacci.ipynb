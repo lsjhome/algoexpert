{
 "cells": [
  {
   "cell_type": "markdown",
   "metadata": {},
   "source": [
    "# Jin's Solution"
   ]
  },
  {
   "cell_type": "code",
   "execution_count": 111,
   "metadata": {},
   "outputs": [],
   "source": [
    "def getNthFib(n):\n",
    "    fibo = {1:0, 2:1}\n",
    "    if (n) in fibo:\n",
    "        return fibo[n]\n",
    "    else:\n",
    "        fibo[n] = getNthFib(n-2) + getNthFib(n-1)\n",
    "    return fibo[n]\n",
    "    "
   ]
  },
  {
   "cell_type": "code",
   "execution_count": 113,
   "metadata": {},
   "outputs": [
    {
     "data": {
      "text/plain": [
       "5"
      ]
     },
     "execution_count": 113,
     "metadata": {},
     "output_type": "execute_result"
    }
   ],
   "source": [
    "getNthFib(6)"
   ]
  },
  {
   "cell_type": "markdown",
   "metadata": {},
   "source": [
    "# Expert's solution"
   ]
  },
  {
   "cell_type": "code",
   "execution_count": 123,
   "metadata": {},
   "outputs": [],
   "source": [
    "# O(n^2) time | O(n) space\n",
    "def getNthFib(n):\n",
    "    if n == 2:\n",
    "        return 1\n",
    "    elif n == 1:\n",
    "        return 0\n",
    "    else:\n",
    "        return getNthFib(n-1) + getNthFib(n-2)"
   ]
  },
  {
   "cell_type": "code",
   "execution_count": 125,
   "metadata": {},
   "outputs": [
    {
     "data": {
      "text/plain": [
       "5"
      ]
     },
     "execution_count": 125,
     "metadata": {},
     "output_type": "execute_result"
    }
   ],
   "source": [
    "getNthFib(6)"
   ]
  },
  {
   "cell_type": "code",
   "execution_count": 127,
   "metadata": {},
   "outputs": [],
   "source": [
    "# O(n) time | o(n) space\n",
    "def getNthFib(n, memoize={1:0, 2:1}):\n",
    "    if n in memoize:\n",
    "        return memoize[n]\n",
    "    else:\n",
    "        memoize[n] = getNthFib(n-1) + getNthFib(n-2)\n",
    "        return memoize[n]"
   ]
  },
  {
   "cell_type": "code",
   "execution_count": 128,
   "metadata": {},
   "outputs": [
    {
     "data": {
      "text/plain": [
       "5"
      ]
     },
     "execution_count": 128,
     "metadata": {},
     "output_type": "execute_result"
    }
   ],
   "source": [
    "getNthFib(6)"
   ]
  },
  {
   "cell_type": "code",
   "execution_count": 135,
   "metadata": {},
   "outputs": [],
   "source": [
    "# O(n) time | o(1) space\n",
    "def getNthFib(n):\n",
    "    lastTwo = [0, 1]\n",
    "    counter = 3\n",
    "    while counter <= n:\n",
    "        nextFib = lastTwo[0] + lastTwo[1]\n",
    "        lastTwo[0], lastTwo[1] = lastTwo[1], nextFib\n",
    "        counter += 1\n",
    "    return lastTwo[1] if n > 1 else lastTwo[0]\n"
   ]
  },
  {
   "cell_type": "code",
   "execution_count": null,
   "metadata": {},
   "outputs": [],
   "source": []
  }
 ],
 "metadata": {
  "kernelspec": {
   "display_name": "Python 3",
   "language": "python",
   "name": "python3"
  },
  "language_info": {
   "codemirror_mode": {
    "name": "ipython",
    "version": 3
   },
   "file_extension": ".py",
   "mimetype": "text/x-python",
   "name": "python",
   "nbconvert_exporter": "python",
   "pygments_lexer": "ipython3",
   "version": "3.7.2"
  }
 },
 "nbformat": 4,
 "nbformat_minor": 2
}
